{
 "cells": [
  {
   "cell_type": "markdown",
   "metadata": {},
   "source": [
    "# PTT 網路爬蟲實作練習\n",
    "\n",
    "\n",
    "* 能夠利用 Request + BeatifulSour 撰寫爬蟲，並存放到合適的資料結構\n"
   ]
  },
  {
   "cell_type": "markdown",
   "metadata": {},
   "source": [
    "## 作業目標\n",
    "\n",
    "根據範例 ，完成以下問題：\n",
    "\n",
    "* ① 印出最新文章的「作者」「標題」「時間」\n",
    "* ② 印出第一頁所有文章的「作者」「標題」「時間」\n"
   ]
  },
  {
   "cell_type": "markdown",
   "metadata": {},
   "source": [
    "### ① 印出最新文章的「作者」「標題」「時間」"
   ]
  },
  {
   "cell_type": "code",
   "execution_count": 54,
   "metadata": {},
   "outputs": [
    {
     "name": "stdout",
     "output_type": "stream",
     "text": [
      "[花邊] 林書豪轟33分成空響 北京首鋼苦吞二連敗\n",
      "作者: jack8587 (james)\n",
      "時間: Sun Dec 29 00:38:39 2019\n"
     ]
    }
   ],
   "source": [
    "'''\n",
    "Your Code\n",
    "'''\n",
    "import requests\n",
    "from bs4 import BeautifulSoup\n",
    "\n",
    "url = 'https://www.ptt.cc/bbs/NBA/index.html'\n",
    "r = requests.get(url)\n",
    "\n",
    "soup = BeautifulSoup(r.text, \"html5lib\")\n",
    "\n",
    "d = soup.find_all(class_=\"title\")[-5]\n",
    "print(d.text.replace('\\t', '').replace('\\n', ''))\n",
    "r = BeautifulSoup(requests.get('https://www.ptt.cc'+d.find('a')['href']).text, \"html5lib\")\n",
    "print('作者: ' + r.find_all(class_='article-meta-value')[0].text)\n",
    "print('時間: ' + r.find_all(class_='article-meta-value')[-1].text)"
   ]
  },
  {
   "cell_type": "markdown",
   "metadata": {},
   "source": [
    "### ② 印出第一頁所有文章的「作者」「標題」「時間」"
   ]
  },
  {
   "cell_type": "code",
   "execution_count": 55,
   "metadata": {},
   "outputs": [
    {
     "name": "stdout",
     "output_type": "stream",
     "text": [
      "Re: [討論]為何黃種人無法像白人出一堆nba球員?\n",
      "作者: rial (deoo)\n",
      "時間: Sat Dec 28 20:39:55 2019\n",
      "[情報] NBA Standings (Dec. 28, 2019)\n",
      "作者: a78998042a (Benjimin)\n",
      "時間: Sat Dec 28 21:00:36 2019\n",
      "Re: [討論]為何黃種人無法像白人出一堆nba球員?\n",
      "作者: allenfu0106 (AllenFu)\n",
      "時間: Sat Dec 28 22:48:25 2019\n",
      "[新聞] 勇士經典「一波流」再現 決勝節逆轉太陽\n",
      "作者: manuginobii (做愛校 果真累人)\n",
      "時間: Sat Dec 28 23:13:59 2019\n",
      "[新聞] 催淚！熱火菜鳥3年沒回家　球團找媽媽來\n",
      "作者: s66449 (老實樣)\n",
      "時間: Sat Dec 28 23:17:06 2019\n",
      "[新聞] 6.8秒致勝球退溜馬 熱火Dragic：永不放棄\n",
      "作者: Ayanami5566 (綾波五六)\n",
      "時間: Sat Dec 28 23:35:12 2019\n",
      "Re: [情報] 快艇vs湖人聖誕大戰裁判報告：無任何\n",
      "作者: eh07 (欸)\n",
      "時間: Sat Dec 28 23:42:26 2019\n",
      "[新聞] 不認同杜蘭特與厄文選擇 賈奈特：應該加\n",
      "作者: Gotham (萬惡之城)\n",
      "時間: Sat Dec 28 23:59:57 2019\n",
      "Re: [新聞]遭貝佛利膝擊腹股溝 傳詹皇恐缺席數場\n",
      "作者: eh07 (欸)\n",
      "時間: Sun Dec 29 00:04:23 2019\n",
      "[討論] Dan Majerle為何綽號是雷霆丹呢?\n",
      "作者: japanx (/~*花樣X=<.?)\n",
      "時間: Sun Dec 29 00:06:17 2019\n",
      "[花邊] 林書豪轟33分成空響 北京首鋼苦吞二連敗\n",
      "作者: jack8587 (james)\n",
      "時間: Sun Dec 29 00:38:39 2019\n",
      "[公告] 板規v6.7\n",
      "[公告] 樂透取消及未來不再開啟樂透\n",
      "作者: Vedan (味丹)\n",
      "時間: Mon Jun 24 15:08:02 2019\n",
      "[公告] 版主上任相關事項 \n",
      "作者: qazwsx879345 (Rajon Rondo)\n",
      "時間: Fri Oct 25 10:44:03 2019\n",
      "[情報] SEASON Schedule 賽程 December 19–20\n",
      "作者: JerroLi (銀色小刀)\n",
      "時間: Fri Nov 29 00:46:01 2019\n"
     ]
    }
   ],
   "source": [
    "'''\n",
    "Your Code\n",
    "'''\n",
    "url = 'https://www.ptt.cc/bbs/NBA/index.html'\n",
    "r = requests.get(url)\n",
    "soup = BeautifulSoup(r.text, \"html5lib\")\n",
    "\n",
    "for d in soup.find_all(class_=\"title\"):\n",
    "    print(d.text.replace('\\t', '').replace('\\n', ''))\n",
    "    try:\n",
    "        r = BeautifulSoup(requests.get('https://www.ptt.cc'+d.find('a')['href']).text, \"html5lib\")\n",
    "        print('作者: ' + r.find_all(class_='article-meta-value')[0].text)\n",
    "        print('時間: ' + r.find_all(class_='article-meta-value')[-1].text)\n",
    "    except:\n",
    "        continue"
   ]
  },
  {
   "cell_type": "markdown",
   "metadata": {},
   "source": [
    "### ③ 試著爬爬看其他版的文章"
   ]
  },
  {
   "cell_type": "code",
   "execution_count": 56,
   "metadata": {},
   "outputs": [
    {
     "name": "stdout",
     "output_type": "stream",
     "text": [
      "[新聞] 不是道奇！　美媒大膽預測：紅襪貝茲最終落腳大都會\n",
      "作者: saiulbb (#KEEP MLB GREAT!)\n",
      "時間: Sat Dec 28 22:44:58 2019\n",
      "[分享] 杉谷拳士被推坑買高級車\n",
      "作者: ihcc (Aliaza)\n",
      "時間: Sat Dec 28 22:45:08 2019\n",
      "[新聞] 王威晨球迷會　陳晨威現身親密連線嗨翻\n",
      "作者: tomlishan (湯姆莉珊)\n",
      "時間: Sat Dec 28 23:14:30 2019\n",
      "Re: [新聞] 官辦熱身賽有5隊  新軍味全龍參戰\n",
      "作者: rpg1510 (八分之三)\n",
      "時間: Sat Dec 28 23:15:13 2019\n",
      "[問題] 這些是誰的簽名？\n",
      "作者: eunhailoveu (銀河盒)\n",
      "時間: Sat Dec 28 23:38:00 2019\n",
      "[討論] 開放境外球隊應該是最佳解了吧\n",
      "作者: pp5434 ()\n",
      "時間: Sun Dec 29 00:01:12 2019\n",
      "[新聞] 曾月薪2萬出頭　河載勲加薪456%破韓職紀\n",
      "作者: Gotham (萬惡之城)\n",
      "時間: Sun Dec 29 00:08:04 2019\n",
      "[新聞] 富邦悍將留不住　王建民轉投中信機會大  \n",
      "作者: micheal59 (爪爪我驕傲)\n",
      "時間: Sun Dec 29 00:29:41 2019\n",
      "[閒聊] 自由教練市場\n",
      "作者: barry610171 (小小羊)\n",
      "時間: Sun Dec 29 00:58:09 2019\n",
      "[公告] 板規/即時資訊\n",
      "[整理] 2019棒球賽事轉播節目表\n",
      "作者: johnnyckvs (體育賽事喜好者@912139)\n",
      "時間: Tue Jan  1 00:07:35 2019\n",
      "[LIVE] 2019富邦U18國際城市棒球邀請賽 12/28\n",
      "作者: johnnyckvs (體育賽事喜好者@912139)\n",
      "時間: Sat Dec 28 08:04:35 2019\n",
      "[公告] Baseball 板 開始舉辦樂透!\n",
      "作者: tmlc\n",
      "時間: Sat Dec 28 15:54:47 2019\n"
     ]
    }
   ],
   "source": [
    "'''\n",
    "Your Code\n",
    "'''\n",
    "url = 'https://www.ptt.cc/bbs/Baseball/index.html'\n",
    "r = requests.get(url)\n",
    "soup = BeautifulSoup(r.text, \"html5lib\")\n",
    "\n",
    "for d in soup.find_all(class_=\"title\"):\n",
    "    print(d.text.replace('\\t', '').replace('\\n', ''))\n",
    "    try:\n",
    "        r = BeautifulSoup(requests.get('https://www.ptt.cc'+d.find('a')['href']).text, \"html5lib\")\n",
    "        print('作者: ' + r.find_all(class_='article-meta-value')[0].text)\n",
    "        print('時間: ' + r.find_all(class_='article-meta-value')[-1].text)\n",
    "    except:\n",
    "        continue"
   ]
  },
  {
   "cell_type": "code",
   "execution_count": null,
   "metadata": {},
   "outputs": [],
   "source": []
  }
 ],
 "metadata": {
  "kernelspec": {
   "display_name": "Python 3",
   "language": "python",
   "name": "python3"
  },
  "language_info": {
   "codemirror_mode": {
    "name": "ipython",
    "version": 3
   },
   "file_extension": ".py",
   "mimetype": "text/x-python",
   "name": "python",
   "nbconvert_exporter": "python",
   "pygments_lexer": "ipython3",
   "version": "3.7.3"
  }
 },
 "nbformat": 4,
 "nbformat_minor": 2
}
