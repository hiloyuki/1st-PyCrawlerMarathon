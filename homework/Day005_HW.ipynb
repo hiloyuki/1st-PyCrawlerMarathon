{
 "cells": [
  {
   "cell_type": "markdown",
   "metadata": {},
   "source": [
    "# API 資料串接 - 以 Dcard API 實作範例\n",
    "\n",
    "* 了解 Dcard API 使用方式與回傳內容\n",
    "* 撰寫程式存取 API 且解析 JSON 格式資料\n"
   ]
  },
  {
   "cell_type": "markdown",
   "metadata": {},
   "source": [
    "## 作業目標\n",
    "\n",
    "* 請利用 API: https://www.dcard.tw/_api/forums/pet/posts?popular=true 回答下列問題：\n",
    "\n",
    "1. 這個 API 一次會回傳幾筆資料？每一筆資料包含哪些欄位？\n",
    "2. 取出每一筆資料的「標題」、「貼文時間」、「留言人數」、「按讚人數」\n",
    "3. 計算熱門/非熱門文章的「平均留言人數」與「平均按讚人數」"
   ]
  },
  {
   "cell_type": "code",
   "execution_count": 20,
   "metadata": {},
   "outputs": [
    {
     "name": "stdout",
     "output_type": "stream",
     "text": [
      "這個API一次回傳30筆資料,每一筆資料含有32個欄位\n"
     ]
    },
    {
     "data": {
      "text/plain": [
       "dict_keys(['id', 'title', 'excerpt', 'anonymousSchool', 'anonymousDepartment', 'pinned', 'forumId', 'replyId', 'createdAt', 'updatedAt', 'commentCount', 'likeCount', 'withNickname', 'tags', 'topics', 'meta', 'forumName', 'forumAlias', 'gender', 'school', 'replyTitle', 'mediaMeta', 'reactions', 'hidden', 'customStyle', 'isSuspiciousAccount', 'layout', 'withImages', 'withVideos', 'media', 'reportReasonText', 'postAvatar'])"
      ]
     },
     "execution_count": 20,
     "metadata": {},
     "output_type": "execute_result"
    }
   ],
   "source": [
    "# 1. 這個 API 一次會回傳幾筆資料？每一筆資料包含哪些欄位？\n",
    "\n",
    "import requests\n",
    "import json\n",
    "\n",
    "r = requests.get('https://www.dcard.tw/_api/forums/pet/posts?popular=true')\n",
    "response = r.text\n",
    "data = json.loads(response)\n",
    "print(\"這個API一次回傳\"+str(len(data))+\"筆資料,每一筆資料含有\"+str(len(data[0]))+\"個欄位\")\n",
    "data[0].keys()"
   ]
  },
  {
   "cell_type": "code",
   "execution_count": 36,
   "metadata": {},
   "outputs": [
    {
     "name": "stdout",
     "output_type": "stream",
     "text": [
      "標題 貼文時間 留言人數 按讚人數\n",
      "可以不要拉摸ㄎㄧㄤ嗎 2019-12-08T03:04:28.277Z 63 3184\n",
      "IKEA的鯊魚484有毒 2019-12-08T10:11:47.468Z 50 2284\n",
      "我再也不敢給學生領養寵物！！（文長 2019-12-09T00:59:23.212Z 78 479\n",
      "🐶讓毛孩健健康康過聖誕🐱純肉食堂每餐都舔光光😋 2019-12-09T07:00:13.012Z 12 341\n",
      "我家的貓根本表情包 ！ 2019-12-08T03:54:39.812Z 4 203\n",
      "半夜不睡覺的喵ㄦ😂 2019-12-08T20:55:38.826Z 10 99\n",
      "我家第一隻狐狸寶貝！(๑˃̵ᴗ˂̵) 2019-12-08T09:33:48.688Z 4 70\n",
      "嘴上說討厭，身體倒蠻誠實的⁎⁍̴̛ᴗ⁍̴̛⁎ 2019-12-08T13:22:01.659Z 12 63\n",
      "貓咪道歉 2019-12-09T07:14:06.144Z 4 57\n",
      "我家狗狗好像每天都很累 2019-12-08T16:43:39.355Z 2 57\n",
      "我的小女兒-嘎逼🐰 2019-12-08T10:54:04.444Z 19 39\n",
      "圖片上的貓🐱 2019-12-09T01:37:15.440Z 2 38\n",
      "溫暖，但我快不能呼吸 2019-12-09T05:56:24.480Z 2 35\n",
      "阿嬤你在這啊 2019-12-09T06:59:41.227Z 2 30\n",
      "南應大女同學 你的鼠鼠被通緝了 2019-12-08T12:32:31.220Z 8 30\n",
      "#求領養 帶她回家巴 2019-12-09T05:48:31.756Z 2 28\n",
      "傻眼貓咪 2019-12-08T15:53:34.950Z 0 28\n",
      "#問 台灣領養的到這種貓嗎 2019-12-08T06:14:11.207Z 35 26\n",
      "瑪爾狗聚🐾🐾🐾 2019-12-09T03:42:30.250Z 7 19\n",
      "求好心人收養幼貓（已解決） 2019-12-08T21:47:24.537Z 5 15\n",
      "養貓不花錢一切都是我想花 2019-12-08T10:20:49.520Z 2 15\n",
      "吾家有蛋初長成 2019-12-08T09:25:50.663Z 2 14\n",
      "早來的生日禮物 2019-12-08T07:04:08.188Z 0 13\n",
      "線上等 急 被黏住了該怎麼辦 2019-12-09T07:48:06.348Z 4 12\n",
      "【已找到】台中 走失 狐狸犬 協尋！！ 2019-12-08T08:08:56.959Z 0 12\n",
      "與你的緣分🐢❤️ 2019-12-09T04:14:02.978Z 11 11\n",
      "傻呼呼的小兔(*´∀`)~♥ 2019-12-09T07:30:25.748Z 3 10\n",
      "急 貓咪只喝我的水 怎麼辦 2019-12-08T17:18:17.240Z 10 10\n",
      "貓咪能多長 2019-12-09T07:36:24.865Z 1 9\n",
      "超能狗狗生病了😢 2019-12-09T03:42:12.180Z 1 8\n"
     ]
    }
   ],
   "source": [
    "# 2. 取出每一筆資料的「標題」、「貼文時間」、「留言人數」、「按讚人數」\n",
    "print('標題','貼文時間','留言人數','按讚人數')\n",
    "for d in data:\n",
    "    print(d['title'],d['createdAt'],d['commentCount'],d['likeCount'])"
   ]
  },
  {
   "cell_type": "code",
   "execution_count": 50,
   "metadata": {},
   "outputs": [
    {
     "name": "stdout",
     "output_type": "stream",
     "text": [
      "熱門文章平均留言人數10.57\n",
      "熱門文章平均按讚人數144.30\n",
      "非熱門文章平均留言人數2.43\n",
      "非熱門文章平均按讚人數18.07\n"
     ]
    }
   ],
   "source": [
    "# 3. 計算熱門/非熱門文章的「平均留言人數」與「平均按讚人數」\n",
    "r = requests.get('https://www.dcard.tw/_api/forums/pet/posts?popular=true')\n",
    "response = r.text\n",
    "data = json.loads(response)\n",
    "NumcP = 0\n",
    "NumlP = 0\n",
    "for d in data:\n",
    "    NumcP += d['commentCount']\n",
    "    NumlP += d['likeCount']\n",
    "print(\"熱門文章平均留言人數\"+\"{:.2f}\".format((NumcP / len(data))))\n",
    "print(\"熱門文章平均按讚人數\"+\"{:.2f}\".format((NumlP / len(data))))\n",
    "\n",
    "r = requests.get('https://www.dcard.tw/_api/forums/pet/posts?popular=false')\n",
    "response = r.text\n",
    "data = json.loads(response)\n",
    "NumcP = 0\n",
    "NumlP = 0\n",
    "for d in data:\n",
    "    NumcP += d['commentCount']\n",
    "    NumlP += d['likeCount']\n",
    "print(\"非熱門文章平均留言人數\"+\"{:.2f}\".format((NumcP / len(data))))\n",
    "print(\"非熱門文章平均按讚人數\"+\"{:.2f}\".format((NumlP / len(data))))"
   ]
  },
  {
   "cell_type": "code",
   "execution_count": 39,
   "metadata": {},
   "outputs": [
    {
     "data": {
      "text/plain": [
       "30"
      ]
     },
     "execution_count": 39,
     "metadata": {},
     "output_type": "execute_result"
    }
   ],
   "source": [
    "len(data)"
   ]
  },
  {
   "cell_type": "code",
   "execution_count": null,
   "metadata": {},
   "outputs": [],
   "source": []
  }
 ],
 "metadata": {
  "kernelspec": {
   "display_name": "Python 3",
   "language": "python",
   "name": "python3"
  },
  "language_info": {
   "codemirror_mode": {
    "name": "ipython",
    "version": 3
   },
   "file_extension": ".py",
   "mimetype": "text/x-python",
   "name": "python",
   "nbconvert_exporter": "python",
   "pygments_lexer": "ipython3",
   "version": "3.7.3"
  }
 },
 "nbformat": 4,
 "nbformat_minor": 2
}
