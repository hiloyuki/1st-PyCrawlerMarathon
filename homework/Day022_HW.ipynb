{
 "cells": [
  {
   "cell_type": "markdown",
   "metadata": {},
   "source": [
    "# 空氣污染監測網 網路爬蟲實作練習\n",
    "\n",
    "\n",
    "* 能夠利用 selenium + BeautifulSoup 撰寫爬蟲，並存放到合適的資料結構\n"
   ]
  },
  {
   "cell_type": "markdown",
   "metadata": {},
   "source": [
    "## 作業目標\n",
    "\n",
    "根據範例 ，完成以下問題：\n",
    "\n",
    "* ① 取出 台北市士林區 2018/01 – 2018/08 的 SO2 資料\n",
    "* ② 取出 台北市士林區 2018/01 – 2018/08 的 SO2、CO 資料\n",
    "\n",
    "\n",
    "\n"
   ]
  },
  {
   "cell_type": "markdown",
   "metadata": {},
   "source": [
    "### ① 取出 台北市士林區 2018/01 – 2018/08 的 SO2 資料"
   ]
  },
  {
   "cell_type": "code",
   "execution_count": 1,
   "metadata": {},
   "outputs": [],
   "source": [
    "'''\n",
    "Your Code\n",
    "'''\n",
    "from selenium import webdriver\n",
    "from selenium.webdriver.support.ui import Select\n",
    "from bs4 import BeautifulSoup\n",
    "\n",
    "browser = webdriver.Chrome(executable_path='chromedriver')\n",
    "\n",
    "browser.get(\"http://taqm.epa.gov.tw/taqm/tw/MonthlyAverage.aspx\")\n",
    "\n",
    "selectYear = Select(browser.find_element_by_id(\"ctl05_ddlYear\"))\n",
    "selectYear.select_by_value('2018')\n",
    "\n",
    "browser.find_element_by_id('ctl05_btnQuery').click()"
   ]
  },
  {
   "cell_type": "code",
   "execution_count": 9,
   "metadata": {},
   "outputs": [
    {
     "name": "stdout",
     "output_type": "stream",
     "text": [
      "SO2\n",
      "2018/01 1.80\n",
      "2018/02 1.90\n",
      "2018/03 2.20\n",
      "2018/04 2.30\n",
      "2018/05 3.10\n",
      "2018/06 2.70\n",
      "2018/07 2.20\n",
      "2018/08 2.40\n"
     ]
    }
   ],
   "source": [
    "html_source = browser.page_source\n",
    "soup = BeautifulSoup(html_source, 'html.parser')\n",
    "table = soup.find('table', class_='TABLE_G')\n",
    "\n",
    "tr = table.find_all('tr')\n",
    "k = -1\n",
    "for i in tr:\n",
    "    j = i.find_all('td')\n",
    "    #print(len(i.find_all('td')))\n",
    "    if len(j) > 0:\n",
    "        if j[0].text =='SO2':\n",
    "            print(j[0].text)\n",
    "            print(j[2].text,j[3].text)\n",
    "            k = 0\n",
    "        elif k<7 and k>=0:\n",
    "            print(j[0].text,j[1].text)\n",
    "            k += 1"
   ]
  },
  {
   "cell_type": "markdown",
   "metadata": {},
   "source": [
    "### ② 取出 台北市士林區 2018/01 – 2018/08 的 SO2、CO 資料"
   ]
  },
  {
   "cell_type": "code",
   "execution_count": 10,
   "metadata": {},
   "outputs": [
    {
     "name": "stdout",
     "output_type": "stream",
     "text": [
      "SO2\n",
      "2018/01 1.80\n",
      "2018/02 1.90\n",
      "2018/03 2.20\n",
      "2018/04 2.30\n",
      "2018/05 3.10\n",
      "2018/06 2.70\n",
      "2018/07 2.20\n",
      "2018/08 2.40\n",
      "CO\n",
      "2018/01 0.34\n",
      "2018/02 0.44\n",
      "2018/03 0.40\n",
      "2018/04 0.38\n",
      "2018/05 0.34\n",
      "2018/06 0.29\n",
      "2018/07 0.21\n",
      "2018/08 0.30\n"
     ]
    }
   ],
   "source": [
    "'''\n",
    "Your Code\n",
    "'''\n",
    "m = -1\n",
    "n = -1\n",
    "for i in tr:\n",
    "    j = i.find_all('td')\n",
    "    if len(j) > 0:\n",
    "        if j[0].text =='SO2':\n",
    "            print(j[0].text)\n",
    "            print(j[2].text,j[3].text)\n",
    "            m = 0\n",
    "        elif m<7 and m>=0:\n",
    "            print(j[0].text,j[1].text)\n",
    "            m += 1\n",
    "        if j[0].text =='CO':\n",
    "            print(j[0].text)\n",
    "            print(j[2].text,j[3].text)\n",
    "            n = 0\n",
    "        elif n<7 and n>=0:\n",
    "            print(j[0].text,j[1].text)\n",
    "            n += 1"
   ]
  },
  {
   "cell_type": "code",
   "execution_count": null,
   "metadata": {},
   "outputs": [],
   "source": []
  }
 ],
 "metadata": {
  "kernelspec": {
   "display_name": "Python 3",
   "language": "python",
   "name": "python3"
  },
  "language_info": {
   "codemirror_mode": {
    "name": "ipython",
    "version": 3
   },
   "file_extension": ".py",
   "mimetype": "text/x-python",
   "name": "python",
   "nbconvert_exporter": "python",
   "pygments_lexer": "ipython3",
   "version": "3.7.3"
  }
 },
 "nbformat": 4,
 "nbformat_minor": 2
}
