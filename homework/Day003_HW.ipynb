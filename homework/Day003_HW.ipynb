{
 "cells": [
  {
   "cell_type": "markdown",
   "metadata": {},
   "source": [
    "# Python 下載XML檔案與解析\n",
    "\n",
    "\n",
    "* 了解 xml 檔案格式與內容\n",
    "* 能夠利用套件存取 xml 格式的檔案\n"
   ]
  },
  {
   "cell_type": "markdown",
   "metadata": {},
   "source": [
    "## 作業目標\n",
    "\n",
    "* 比較一下範例檔案中的「File I/O」與「xmltodict」讀出來的內容有什麼差異\n",
    "\n",
    "* 根據範例檔案的結果：\n",
    "    1. 請問高雄市有多少地區有溫度資料？\n",
    "    2. 請取出每一個地區所記錄的第一個時間點跟溫度\n",
    "    3. 請取出第一個地區所記錄的每一個時間點跟溫度"
   ]
  },
  {
   "cell_type": "markdown",
   "metadata": {},
   "source": [
    "### 比較一下範例檔案中的「File I/O」與「xmltodict」讀出來的內容有什麼差異\n"
   ]
  },
  {
   "cell_type": "code",
   "execution_count": null,
   "metadata": {},
   "outputs": [],
   "source": [
    "'''\n",
    "File I/O 得到的是 整個未整理的字串 包含標籤以及資料都在裡面\n",
    "xmltodict 得到的則是已經按照標籤整理好的dict型態的資料\n",
    "'''"
   ]
  },
  {
   "cell_type": "markdown",
   "metadata": {},
   "source": [
    "### 根據範例檔案的結果：\n",
    "\n",
    "1. 請問高雄市有多少地區有溫度資料？\n",
    "2. 請取出每一個地區所記錄的第一個時間點跟溫度\n",
    "3. 請取出第一個地區所記錄的每一個時間點跟溫度"
   ]
  },
  {
   "cell_type": "code",
   "execution_count": 4,
   "metadata": {},
   "outputs": [],
   "source": [
    "fh = open(\"./data/64_72hr_CH.xml\", \"r\",encoding = 'utf8')\n",
    "xml = fh.read()\n",
    "import xmltodict\n",
    "d = dict(xmltodict.parse(xml))"
   ]
  },
  {
   "cell_type": "code",
   "execution_count": 10,
   "metadata": {},
   "outputs": [
    {
     "name": "stdout",
     "output_type": "stream",
     "text": [
      "鹽埕區 鼓山區 左營區 楠梓區 三民區 新興區 前金區 苓雅區 前鎮區 旗津區 小港區 鳳山區 林園區 大寮區 大樹區 大社區 仁武區 鳥松區 岡山區 橋頭區 燕巢區 田寮區 阿蓮區 路竹區 湖內區 茄萣區 永安區 彌陀區 梓官區 旗山區 美濃區 六龜區 甲仙區 杉林區 內門區 茂林區 桃源區 那瑪夏區 \n",
      "38 個地區有溫度資料\n"
     ]
    }
   ],
   "source": [
    "# 1. 請問高雄市有多少地區有溫度資料？\n",
    "\n",
    "for i in range(0,len(d['cwbopendata']['dataset']['locations']['location'])):\n",
    "    print(d['cwbopendata']['dataset']['locations']['location'][i]['locationName'],end=' ')\n",
    "print('\\n'+str(len(d['cwbopendata']['dataset']['locations']['location']))+' 個地區有溫度資料')"
   ]
  },
  {
   "cell_type": "code",
   "execution_count": 16,
   "metadata": {},
   "outputs": [
    {
     "name": "stdout",
     "output_type": "stream",
     "text": [
      "鹽埕區 2019-12-09T00:00:00+08:00 17 攝氏度\n",
      "鼓山區 2019-12-09T00:00:00+08:00 17 攝氏度\n",
      "左營區 2019-12-09T00:00:00+08:00 16 攝氏度\n",
      "楠梓區 2019-12-09T00:00:00+08:00 16 攝氏度\n",
      "三民區 2019-12-09T00:00:00+08:00 16 攝氏度\n",
      "新興區 2019-12-09T00:00:00+08:00 17 攝氏度\n",
      "前金區 2019-12-09T00:00:00+08:00 17 攝氏度\n",
      "苓雅區 2019-12-09T00:00:00+08:00 17 攝氏度\n",
      "前鎮區 2019-12-09T00:00:00+08:00 17 攝氏度\n",
      "旗津區 2019-12-09T00:00:00+08:00 17 攝氏度\n",
      "小港區 2019-12-09T00:00:00+08:00 17 攝氏度\n",
      "鳳山區 2019-12-09T00:00:00+08:00 16 攝氏度\n",
      "林園區 2019-12-09T00:00:00+08:00 17 攝氏度\n",
      "大寮區 2019-12-09T00:00:00+08:00 16 攝氏度\n",
      "大樹區 2019-12-09T00:00:00+08:00 15 攝氏度\n",
      "大社區 2019-12-09T00:00:00+08:00 15 攝氏度\n",
      "仁武區 2019-12-09T00:00:00+08:00 15 攝氏度\n",
      "鳥松區 2019-12-09T00:00:00+08:00 16 攝氏度\n",
      "岡山區 2019-12-09T00:00:00+08:00 15 攝氏度\n",
      "橋頭區 2019-12-09T00:00:00+08:00 16 攝氏度\n",
      "燕巢區 2019-12-09T00:00:00+08:00 14 攝氏度\n",
      "田寮區 2019-12-09T00:00:00+08:00 14 攝氏度\n",
      "阿蓮區 2019-12-09T00:00:00+08:00 13 攝氏度\n",
      "路竹區 2019-12-09T00:00:00+08:00 15 攝氏度\n",
      "湖內區 2019-12-09T00:00:00+08:00 15 攝氏度\n",
      "茄萣區 2019-12-09T00:00:00+08:00 16 攝氏度\n",
      "永安區 2019-12-09T00:00:00+08:00 16 攝氏度\n",
      "彌陀區 2019-12-09T00:00:00+08:00 16 攝氏度\n",
      "梓官區 2019-12-09T00:00:00+08:00 15 攝氏度\n",
      "旗山區 2019-12-09T00:00:00+08:00 14 攝氏度\n",
      "美濃區 2019-12-09T00:00:00+08:00 15 攝氏度\n",
      "六龜區 2019-12-09T00:00:00+08:00 14 攝氏度\n",
      "甲仙區 2019-12-09T00:00:00+08:00 12 攝氏度\n",
      "杉林區 2019-12-09T00:00:00+08:00 15 攝氏度\n",
      "內門區 2019-12-09T00:00:00+08:00 13 攝氏度\n",
      "茂林區 2019-12-09T00:00:00+08:00 12 攝氏度\n",
      "桃源區 2019-12-09T00:00:00+08:00 12 攝氏度\n",
      "那瑪夏區 2019-12-09T00:00:00+08:00 11 攝氏度\n"
     ]
    }
   ],
   "source": [
    "# 2. 請取出每一個地區所記錄的第一個時間點跟溫度\n",
    "\n",
    "for i in range(0,len(d['cwbopendata']['dataset']['locations']['location'])):\n",
    "    print(d['cwbopendata']['dataset']['locations']['location'][i]['locationName'],end=' ')\n",
    "    print(d['cwbopendata']['dataset']['locations']['location'][i]['weatherElement'][0]['time'][0]['dataTime'],end=' ')\n",
    "    print(d['cwbopendata']['dataset']['locations']['location'][i]['weatherElement'][0]['time'][0]['elementValue']['value'],end=' ')\n",
    "    print(d['cwbopendata']['dataset']['locations']['location'][i]['weatherElement'][0]['time'][0]['elementValue']['measures'])"
   ]
  },
  {
   "cell_type": "code",
   "execution_count": 31,
   "metadata": {},
   "outputs": [
    {
     "name": "stdout",
     "output_type": "stream",
     "text": [
      "鹽埕區\n",
      "2019-12-09T00:00:00+08:00 17 攝氏度\n",
      "2019-12-09T03:00:00+08:00 16 攝氏度\n",
      "2019-12-09T06:00:00+08:00 15 攝氏度\n",
      "2019-12-09T09:00:00+08:00 16 攝氏度\n",
      "2019-12-09T12:00:00+08:00 22 攝氏度\n",
      "2019-12-09T15:00:00+08:00 23 攝氏度\n",
      "2019-12-09T18:00:00+08:00 21 攝氏度\n",
      "2019-12-09T21:00:00+08:00 19 攝氏度\n",
      "2019-12-10T00:00:00+08:00 18 攝氏度\n",
      "2019-12-10T03:00:00+08:00 17 攝氏度\n",
      "2019-12-10T06:00:00+08:00 17 攝氏度\n",
      "2019-12-10T09:00:00+08:00 17 攝氏度\n",
      "2019-12-10T12:00:00+08:00 24 攝氏度\n",
      "2019-12-10T15:00:00+08:00 25 攝氏度\n",
      "2019-12-10T18:00:00+08:00 22 攝氏度\n",
      "2019-12-10T21:00:00+08:00 19 攝氏度\n",
      "2019-12-11T00:00:00+08:00 17 攝氏度\n",
      "2019-12-11T03:00:00+08:00 17 攝氏度\n",
      "2019-12-11T06:00:00+08:00 16 攝氏度\n",
      "2019-12-11T09:00:00+08:00 18 攝氏度\n",
      "2019-12-11T12:00:00+08:00 23 攝氏度\n",
      "2019-12-11T15:00:00+08:00 24 攝氏度\n",
      "2019-12-11T18:00:00+08:00 19 攝氏度\n",
      "2019-12-11T21:00:00+08:00 18 攝氏度\n"
     ]
    }
   ],
   "source": [
    "# 3. 請取出第一個地區所記錄的每一個時間點跟溫度\n",
    "\n",
    "print(d['cwbopendata']['dataset']['locations']['location'][0]['locationName'])\n",
    "for i in range(0,len(d['cwbopendata']['dataset']['locations']['location'][0]['weatherElement'][0]['time'])):\n",
    "    print(d['cwbopendata']['dataset']['locations']['location'][0]['weatherElement'][0]['time'][i]['dataTime'],end=' ')\n",
    "    print(d['cwbopendata']['dataset']['locations']['location'][i]['weatherElement'][0]['time'][i]['elementValue']['value'],end=' ')\n",
    "    print(d['cwbopendata']['dataset']['locations']['location'][i]['weatherElement'][0]['time'][0]['elementValue']['measures'])"
   ]
  }
 ],
 "metadata": {
  "kernelspec": {
   "display_name": "Python 3",
   "language": "python",
   "name": "python3"
  },
  "language_info": {
   "codemirror_mode": {
    "name": "ipython",
    "version": 3
   },
   "file_extension": ".py",
   "mimetype": "text/x-python",
   "name": "python",
   "nbconvert_exporter": "python",
   "pygments_lexer": "ipython3",
   "version": "3.7.3"
  }
 },
 "nbformat": 4,
 "nbformat_minor": 2
}
